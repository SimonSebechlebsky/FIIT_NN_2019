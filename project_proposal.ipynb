{
 "cells": [
  {
   "cell_type": "markdown",
   "metadata": {},
   "source": [
    "# Klasifikácia psích plemien"
   ]
  },
  {
   "cell_type": "markdown",
   "metadata": {},
   "source": [
    "**Šimon Sebechlebský, Karolína Giertlová**"
   ]
  },
  {
   "cell_type": "markdown",
   "metadata": {},
   "source": [
    "## Motivácia\n",
    "\n",
    "Neurónové siete v úlohe spracovávania a klasifikácie obrazových dát dlhodobo dominujú. Je možné pomocou nich zautomatizovať množstvo úloh ktoré ľuďom zjednodušia život (rozpoznávanie ŠPZ, rozpoznávanie pohybu) alebo ho dokonca zachránia (napr. rozpoznávanie rakoviny z MRI).\n",
    "\n",
    "Rozhodli sme sa riešiť úlohu **klasifikácie fotiek psov podľa plemien**. Pre túto úlohu sme sa rozhodli kvôli dostupnosti dobrého datasetu od Stanfordu (a lebo psy sú cute). \n",
    "\n",
    "Táto úloha prináša niekoľko netriviálnych problémov, ako veľký počet tried, málo vzoriek pre jednotlivé triedy, a minimálne rozdiely medzi niektorými plemenami, kedy aj pre človeka môže byť náročné určiť plemeno správne.\n",
    "\n",
    "\n"
   ]
  },
  {
   "cell_type": "markdown",
   "metadata": {},
   "source": [
    "## Súvisiace práce\n",
    "\n",
    "Problémy klasifikácie obrazových dát sú najčastejšie riešené pomocou konvolučných sietí. Sú používané rôzne architektúry ako napríklad LeNet, GoogLeNet, ResNet a iné [1]. Náš prípad je špecifický množstvom tried, a bežné spôsoby klasifikácie obrázkov nie sú až tak úspešné.[5]\n",
    "\n",
    "Veľmi často je používaný tzv. **transfer learning**, kedy sa použije model natrénovaný na podobnej úlohe (napríklad rozoznať mačku od psa) a dotrénuje sa na ďaľšom datasete pre špecifickejšiu úlohu [2].\n"
   ]
  },
  {
   "cell_type": "markdown",
   "metadata": {},
   "source": [
    "## Dataset\n",
    "\n",
    "Použijeme **Stanford Dogs Dataset** [3], ktorý obsahuje ~20000 fotiek psov, ktoré sú označené jedným zo 120 typov plemien. Pre každé plemeno je v datasete zhruba 150 fotiek.\n",
    "\n",
    "Plánujeme použiť ešte jeden dataset obrázkov mačiek[4] pre natrénovanie základného modelu ktorý bude schopný rozoznávať mačky od psov."
   ]
  },
  {
   "cell_type": "markdown",
   "metadata": {},
   "source": [
    "## High-level opis riešenia\n",
    "\n",
    "S veľkou pravdepodobnosťou použijeme jednu zo známych a overených konvolučných architektúr (ako napr. GoogLeNet). Neurónovú sieť skúsime najskôr natrénovať samostatne priamo na datasete psích plemien, a čo najviac zoptimalizovať pomocou hyperparametrov.\n",
    "\n",
    "V druhej fáze chceme použiť transfer learning - buď z vopred natrénovaného modelu na podobnú úlohu ktorý nájdeme hotový, alebo natrénujeme vlastný model na rozoznávanie psov a mačiek. Takýto model použijeme ako základ pre klasifikovanie konkrétnych plemien psov. Keďže takýto základný model už má naučené nízkoúrovňové črty psov, malo by preň byť jednoduchšie dotrénovať sa na úlohu klasifikácie plemien, a mal by dosahovať lepšie výsledky."
   ]
  },
  {
   "cell_type": "markdown",
   "metadata": {},
   "source": [
    "## Referencie\n",
    "[1] https://machinelearningmastery.com/review-of-architectural-innovations-for-convolutional-neural-networks-for-image-classification/\n",
    "\n",
    "[2] https://medium.com/@wangshuocugb2005/dog-breeds-classification-with-cnn-transfer-learning-92217cba3129\n",
    "\n",
    "[3] http://vision.stanford.edu/aditya86/ImageNetDogs/\n",
    "\n",
    "[4] https://www.kaggle.com/crawford/cat-dataset\n",
    "\n",
    "[5] http://cs231n.stanford.edu/reports/2015/pdfs/fcdh_FinalReport.pdf"
   ]
  }
 ],
 "metadata": {
  "kernelspec": {
   "display_name": "Python 3",
   "language": "python",
   "name": "python3"
  },
  "language_info": {
   "codemirror_mode": {
    "name": "ipython",
    "version": 3
   },
   "file_extension": ".py",
   "mimetype": "text/x-python",
   "name": "python",
   "nbconvert_exporter": "python",
   "pygments_lexer": "ipython3",
   "version": "3.7.4"
  }
 },
 "nbformat": 4,
 "nbformat_minor": 2
}
