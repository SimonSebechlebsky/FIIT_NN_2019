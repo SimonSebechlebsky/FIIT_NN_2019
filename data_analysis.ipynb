{
 "cells": [
  {
   "cell_type": "markdown",
   "metadata": {},
   "source": [
    "# Data analysis"
   ]
  },
  {
   "cell_type": "code",
   "execution_count": 1,
   "metadata": {},
   "outputs": [],
   "source": [
    "import os\n",
    "import requests\n",
    "import shutil\n",
    "import tarfile\n",
    "\n",
    "DATA_DIR_NAME = './dog_breeds_data'\n",
    "\n",
    "# https://stackoverflow.com/questions/16694907/download-large-file-in-python-with-requests\n",
    "def download_file(url, directory, filename):\n",
    "    with requests.get(url, stream=True) as r:\n",
    "        with open(os.path.join(directory, filename), 'wb') as f:\n",
    "            shutil.copyfileobj(r.raw, f)\n",
    "    return local_filename\n",
    "\n",
    "def download_data():\n",
    "    if not os.path.exists(DATA_DIR_NAME):\n",
    "        os.makedirs('./dog_breeds_data')\n",
    "    if not os.path.exists(os.path.join(DATA_DIR_NAME, 'images.tar')):\n",
    "        download_file('http://vision.stanford.edu/aditya86/ImageNetDogs/images.tar' , DATA_DIR_NAME, 'images.tar')\n",
    "        extract_file(DATA_DIR_NAME, 'images.tar')\n",
    "        os.remove(os.path.join(DATA_DIR_NAME, 'images.tar'))\n",
    "    if not os.path.exists(os.path.join(DATA_DIR_NAME, 'annotation.tar')):\n",
    "        download_file('http://vision.stanford.edu/aditya86/ImageNetDogs/annotation.tar' ,DATA_DIR_NAME, 'annotation.tar')\n",
    "        extract_file(DATA_DIR_NAME, 'annotation.tar')\n",
    "        os.remove(os.path.join(DATA_DIR_NAME, 'annotation.tar'))\n",
    "    if not os.path.exists(os.path.join(DATA_DIR_NAME, 'lists.tar')):\n",
    "        download_file('http://vision.stanford.edu/aditya86/ImageNetDogs/lists.tar' ,DATA_DIR_NAME, 'lists.tar')\n",
    "        extract_file(DATA_DIR_NAME, 'lists.tar', extract_path=DATA_DIR_NAME+'/lists')\n",
    "        os.remove(os.path.join(DATA_DIR_NAME, 'lists.tar'))\n",
    "\n",
    "def extract_file(directory, filename, extract_path=DATA_DIR_NAME):\n",
    "    shutil.unpack_archive(os.path.join(directory, filename), extract_path)\n",
    "\n",
    "\n",
    "# download_data()\n"
   ]
  },
  {
   "cell_type": "code",
   "execution_count": 12,
   "metadata": {},
   "outputs": [
    {
     "data": {
      "text/plain": [
       "8580"
      ]
     },
     "execution_count": 12,
     "metadata": {},
     "output_type": "execute_result"
    }
   ],
   "source": [
    "import scipy.io as sio\n",
    "\n",
    "train = sio.loadmat(DATA_DIR_NAME+'/train_list.mat')\n",
    "test = sio.loadmat(DATA_DIR_NAME+'/test_list.mat')\n",
    "file = sio.loadmat(DATA_DIR_NAME+'/file_list.mat')"
   ]
  },
  {
   "cell_type": "code",
   "execution_count": 13,
   "metadata": {},
   "outputs": [],
   "source": [
    "from xml.dom import minidom"
   ]
  }
 ],
 "metadata": {
  "kernelspec": {
   "display_name": "Python 3",
   "language": "python",
   "name": "python3"
  },
  "language_info": {
   "codemirror_mode": {
    "name": "ipython",
    "version": 3
   },
   "file_extension": ".py",
   "mimetype": "text/x-python",
   "name": "python",
   "nbconvert_exporter": "python",
   "pygments_lexer": "ipython3",
   "version": "3.6.8"
  }
 },
 "nbformat": 4,
 "nbformat_minor": 2
}
